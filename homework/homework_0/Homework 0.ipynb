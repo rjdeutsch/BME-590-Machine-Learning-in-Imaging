{
 "cells": [
  {
   "cell_type": "markdown",
   "metadata": {},
   "source": [
    "# Introduction\n",
    "\n",
    "Demonstrate your skill of markdown  \n",
    "**[markdown cheat sheet](https://github.com/adam-p/markdown-here/wiki/Markdown-Cheatsheet)**\n"
   ]
  },
  {
   "cell_type": "markdown",
   "metadata": {},
   "source": [
    "### About me\n",
    "\n",
    "#### My name is Riley Deutsch, and I'm a First year PhD student in Dr. Nimmi Ramanujam's lab. I'm originally from Urbandale, IA  and did my undergrad at the University of Iowa. I'm excited to learn more about how machine learning can be used alongside imaging technologies! \n",
    "\n",
    "\n",
    "### My Hobbies Ranked\n",
    "\n",
    "1. Games\n",
    "2. Music\n",
    "3. Hiking"
   ]
  },
  {
   "cell_type": "markdown",
   "metadata": {},
   "source": [
    "```python\n",
    "def fibonacci(n):\n",
    "    # pseudo code printing the fibonacci sequence in markdown \n",
    "    x1 = 1\n",
    "    x2 = 1\n",
    "    print(x1 + \"\\n\")\n",
    "    print(x2 + \"\\n\")\n",
    "    i=0\n",
    "    while i < n\n",
    "        xnew = x1 + x2\n",
    "        print(xnew + \"\\n\")\n",
    "        x1 = x2\n",
    "        x2 = xnew\n",
    "        i++\n",
    "    return \n",
    "```"
   ]
  },
  {
   "cell_type": "code",
   "execution_count": 9,
   "metadata": {
    "scrolled": true
   },
   "outputs": [
    {
     "name": "stdout",
     "output_type": "stream",
     "text": [
      "1\n",
      "1\n",
      "2\n",
      "3\n",
      "5\n",
      "8\n",
      "13\n"
     ]
    }
   ],
   "source": [
    "# See if it works in python3 (doesn't have to)\n",
    "    # pseudo code printing the fibonacci sequence in markdown \n",
    "n = 5\n",
    "x1 = 1\n",
    "x2 = 1\n",
    "print(x1)\n",
    "print(x2)\n",
    "i=0\n",
    "while i < n:\n",
    "    xnew = x1 + x2\n",
    "    print(xnew)\n",
    "    x1 = x2\n",
    "    x2 = xnew\n",
    "    i+=1"
   ]
  },
  {
   "cell_type": "markdown",
   "metadata": {},
   "source": [
    "# Link your favorite Youtube video\n",
    "\n",
    "<a href=\"https://www.youtube.com/watch?v=RMMlWvLJBtQ\n",
    "\" target=\"_blank\"><img src=\"http://i3.ytimg.com/vi/RMMlWvLJBtQ/hqdefault.jpg\" \n",
    "alt=\"IMAGE ALT TEXT HERE\" width=\"240\" height=\"180\" border=\"10\" /></a>"
   ]
  }
 ],
 "metadata": {
  "kernelspec": {
   "display_name": "Python 3",
   "language": "python",
   "name": "python3"
  },
  "language_info": {
   "codemirror_mode": {
    "name": "ipython",
    "version": 3
   },
   "file_extension": ".py",
   "mimetype": "text/x-python",
   "name": "python",
   "nbconvert_exporter": "python",
   "pygments_lexer": "ipython3",
   "version": "3.7.0b5"
  }
 },
 "nbformat": 4,
 "nbformat_minor": 2
}
